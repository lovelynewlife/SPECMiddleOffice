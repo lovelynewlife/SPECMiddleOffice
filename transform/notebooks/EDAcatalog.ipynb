{
 "cells": [
  {
   "cell_type": "code",
   "execution_count": null,
   "metadata": {},
   "outputs": [],
   "source": [
    "from SPECrawling import SPEC, FileType\n",
    "\n",
    "SPEC.open(\"/home/uw1/data\")"
   ]
  },
  {
   "cell_type": "code",
   "execution_count": 16,
   "metadata": {
    "ExecuteTime": {
     "end_time": "2023-04-21T01:05:11.071239Z",
     "start_time": "2023-04-21T01:05:10.894771Z"
    }
   },
   "outputs": [
    {
     "name": "stdout",
     "output_type": "stream",
     "text": [
      "Load group OSG ok.\n"
     ]
    }
   ],
   "source": [
    "SPEC.op.use_group(\"OSG\")"
   ]
  },
  {
   "cell_type": "code",
   "execution_count": 17,
   "metadata": {
    "ExecuteTime": {
     "end_time": "2023-04-21T01:04:36.799678Z",
     "start_time": "2023-04-21T01:04:36.798907Z"
    }
   },
   "outputs": [
    {
     "name": "stderr",
     "output_type": "stream",
     "text": [
      "Downloading 0 HTML files: 0it [00:00, ?it/s]\n"
     ]
    }
   ],
   "source": [
    "SPEC.op.group.download_lost_results(\"cpu2017\", FileType.HTML)"
   ]
  },
  {
   "cell_type": "code",
   "execution_count": 15,
   "metadata": {
    "ExecuteTime": {
     "end_time": "2023-04-21T01:04:36.799738Z",
     "start_time": "2023-04-21T01:04:36.798964Z"
    }
   },
   "outputs": [],
   "source": []
  },
  {
   "cell_type": "markdown",
   "metadata": {},
   "source": []
  }
 ],
 "metadata": {
  "kernelspec": {
   "display_name": "Python 3 (ipykernel)",
   "language": "python",
   "name": "python3"
  },
  "language_info": {
   "codemirror_mode": {
    "name": "ipython",
    "version": 3
   },
   "file_extension": ".py",
   "mimetype": "text/x-python",
   "name": "python",
   "nbconvert_exporter": "python",
   "pygments_lexer": "ipython3",
   "version": "3.8.10"
  }
 },
 "nbformat": 4,
 "nbformat_minor": 1
}
